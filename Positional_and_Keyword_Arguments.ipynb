{
 "cells": [
  {
   "cell_type": "markdown",
   "source": [
    "Normal simple function that takes 3 arguments"
   ],
   "metadata": {
    "collapsed": false
   },
   "id": "d4483f3bd02c281a"
  },
  {
   "cell_type": "code",
   "execution_count": 15,
   "outputs": [
    {
     "data": {
      "text/plain": "(10, 20, 30)"
     },
     "execution_count": 15,
     "metadata": {},
     "output_type": "execute_result"
    }
   ],
   "source": [
    "a = 10\n",
    "b = 20\n",
    "c = 30\n",
    "\n",
    "def output(x, y, z):\n",
    "    return x, y, z\n",
    "    \n",
    "output(a, b, c)"
   ],
   "metadata": {
    "collapsed": false,
    "ExecuteTime": {
     "end_time": "2023-12-08T18:05:31.182825200Z",
     "start_time": "2023-12-08T18:05:31.084732Z"
    }
   },
   "id": "c888a125385834c"
  },
  {
   "cell_type": "markdown",
   "source": [
    "z is a default value"
   ],
   "metadata": {
    "collapsed": false
   },
   "id": "e161db344aa5b23a"
  },
  {
   "cell_type": "code",
   "execution_count": 16,
   "outputs": [
    {
     "data": {
      "text/plain": "(10, 20, 0)"
     },
     "execution_count": 16,
     "metadata": {},
     "output_type": "execute_result"
    }
   ],
   "source": [
    "a = 10\n",
    "b = 20\n",
    "c = 30\n",
    "\n",
    "def output(x, y, z=-20):\n",
    "    return x, y, z\n",
    "    \n",
    "output(a, b)"
   ],
   "metadata": {
    "collapsed": false,
    "ExecuteTime": {
     "end_time": "2023-12-08T18:05:31.183356500Z",
     "start_time": "2023-12-08T18:05:31.096305800Z"
    }
   },
   "id": "c38bd970a301cb77"
  },
  {
   "cell_type": "markdown",
   "source": [
    "Positional default value has to be followed by defaults"
   ],
   "metadata": {
    "collapsed": false
   },
   "id": "cd0d230b7c602ef6"
  },
  {
   "cell_type": "code",
   "execution_count": 17,
   "outputs": [
    {
     "ename": "SyntaxError",
     "evalue": "non-default argument follows default argument (373766375.py, line 5)",
     "output_type": "error",
     "traceback": [
      "\u001B[1;36m  Cell \u001B[1;32mIn[17], line 5\u001B[1;36m\u001B[0m\n\u001B[1;33m    def output(x, y = -10, z):\u001B[0m\n\u001B[1;37m                           ^\u001B[0m\n\u001B[1;31mSyntaxError\u001B[0m\u001B[1;31m:\u001B[0m non-default argument follows default argument\n"
     ]
    }
   ],
   "source": [
    "a = 10\n",
    "b = 20\n",
    "c = 30\n",
    "\n",
    "def output(x, y=-10, z):\n",
    "    return x, y, z\n",
    "    \n",
    "output(a, b, c)"
   ],
   "metadata": {
    "collapsed": false,
    "ExecuteTime": {
     "end_time": "2023-12-08T18:05:31.242087800Z",
     "start_time": "2023-12-08T18:05:31.108292100Z"
    }
   },
   "id": "initial_id"
  },
  {
   "cell_type": "markdown",
   "source": [
    "This ia a valid function"
   ],
   "metadata": {
    "collapsed": false
   },
   "id": "da46cd5bedaee46"
  },
  {
   "cell_type": "code",
   "execution_count": 18,
   "outputs": [
    {
     "data": {
      "text/plain": "(10, -10, -20)"
     },
     "execution_count": 18,
     "metadata": {},
     "output_type": "execute_result"
    }
   ],
   "source": [
    "a = 10\n",
    "b = 20\n",
    "c = 30\n",
    "\n",
    "def output(x, y=-10, z=-20):\n",
    "    return x, y, z\n",
    "    \n",
    "output(a)"
   ],
   "metadata": {
    "collapsed": false,
    "ExecuteTime": {
     "end_time": "2023-12-08T18:05:31.243087600Z",
     "start_time": "2023-12-08T18:05:31.123173700Z"
    }
   },
   "id": "b89be133b072995c"
  },
  {
   "cell_type": "markdown",
   "source": [
    "If you want to omit second parameter you can pass 3rd argument as a keyword argument (named argument) by specifying which one are you passing."
   ],
   "metadata": {
    "collapsed": false
   },
   "id": "35180e2c98ff9c7d"
  },
  {
   "cell_type": "code",
   "execution_count": 23,
   "outputs": [
    {
     "data": {
      "text/plain": "(10, -10, 30)"
     },
     "execution_count": 23,
     "metadata": {},
     "output_type": "execute_result"
    }
   ],
   "source": [
    "a = 10\n",
    "b = 20\n",
    "c = 30\n",
    "\n",
    "def output(x, y=-10, z=-20):\n",
    "    return x, y, z\n",
    "    \n",
    "output(a, z=30)"
   ],
   "metadata": {
    "collapsed": false,
    "ExecuteTime": {
     "end_time": "2023-12-08T18:10:43.276938800Z",
     "start_time": "2023-12-08T18:10:43.262473900Z"
    }
   },
   "id": "d53dee8d75dbc79c"
  },
  {
   "cell_type": "markdown",
   "source": [
    "You have to past positional augments first like with non-defaults"
   ],
   "metadata": {
    "collapsed": false
   },
   "id": "83687af778ce042c"
  },
  {
   "cell_type": "code",
   "execution_count": 22,
   "outputs": [
    {
     "ename": "SyntaxError",
     "evalue": "positional argument follows keyword argument (4095925395.py, line 8)",
     "output_type": "error",
     "traceback": [
      "\u001B[1;36m  Cell \u001B[1;32mIn[22], line 8\u001B[1;36m\u001B[0m\n\u001B[1;33m    output(z=c, y=b, a)\u001B[0m\n\u001B[1;37m                      ^\u001B[0m\n\u001B[1;31mSyntaxError\u001B[0m\u001B[1;31m:\u001B[0m positional argument follows keyword argument\n"
     ]
    }
   ],
   "source": [
    "a = 10\n",
    "b = 20\n",
    "c = 30\n",
    "\n",
    "def output(x, y=-10, z=-20):\n",
    "    return x, y, z\n",
    "    \n",
    "output(z=c, a)"
   ],
   "metadata": {
    "collapsed": false,
    "ExecuteTime": {
     "start_time": "2023-12-08T18:10:03.461976500Z"
    }
   },
   "id": "e1dd4b35a7c8dbe7"
  },
  {
   "cell_type": "markdown",
   "source": [
    "You can pass in reverse order by keyword arguments"
   ],
   "metadata": {
    "collapsed": false
   },
   "id": "b67809b6b5d8cfcd"
  },
  {
   "cell_type": "code",
   "execution_count": 20,
   "outputs": [
    {
     "data": {
      "text/plain": "(10, 20, 30)"
     },
     "execution_count": 20,
     "metadata": {},
     "output_type": "execute_result"
    }
   ],
   "source": [
    "a = 10\n",
    "b = 20\n",
    "c = 30\n",
    "\n",
    "def output(x, y=-10, z=-20):\n",
    "    return x, y, z\n",
    "    \n",
    "output(z=c, y=b, x=a)"
   ],
   "metadata": {
    "collapsed": false,
    "ExecuteTime": {
     "start_time": "2023-12-08T18:05:31.141999300Z"
    }
   },
   "id": "94cf7c73f22f8adb"
  },
  {
   "cell_type": "markdown",
   "source": [
    "You can pass in any order by using keyword arguments"
   ],
   "metadata": {
    "collapsed": false
   },
   "id": "3b7069131cef7891"
  },
  {
   "cell_type": "code",
   "execution_count": 21,
   "outputs": [
    {
     "data": {
      "text/plain": "(10, 20, 30)"
     },
     "execution_count": 21,
     "metadata": {},
     "output_type": "execute_result"
    }
   ],
   "source": [
    "a = 10\n",
    "b = 20\n",
    "c = 30\n",
    "\n",
    "def output(x, y=-10, z=-20):\n",
    "    return x, y, z\n",
    "    \n",
    "output(z=c, x=a, y=b)"
   ],
   "metadata": {
    "collapsed": false,
    "ExecuteTime": {
     "start_time": "2023-12-08T18:07:14.398969300Z"
    }
   },
   "id": "5e01af33889d3f59"
  },
  {
   "cell_type": "code",
   "execution_count": null,
   "outputs": [],
   "source": [],
   "metadata": {
    "collapsed": false
   },
   "id": "a07b19c1e215daa9"
  }
 ],
 "metadata": {
  "kernelspec": {
   "display_name": "Python 3",
   "language": "python",
   "name": "python3"
  },
  "language_info": {
   "codemirror_mode": {
    "name": "ipython",
    "version": 2
   },
   "file_extension": ".py",
   "mimetype": "text/x-python",
   "name": "python",
   "nbconvert_exporter": "python",
   "pygments_lexer": "ipython2",
   "version": "2.7.6"
  }
 },
 "nbformat": 4,
 "nbformat_minor": 5
}
