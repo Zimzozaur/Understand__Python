{
 "cells": [
  {
   "cell_type": "markdown",
   "source": [
    "All of this is only semantics it does not matter."
   ],
   "metadata": {
    "collapsed": false
   },
   "id": "b0b654910a9da462"
  },
  {
   "cell_type": "code",
   "execution_count": null,
   "outputs": [],
   "source": [
    "def func(a, b):\n",
    "    return a, b"
   ],
   "metadata": {
    "collapsed": false
   },
   "id": "28164b7bb85eb4a3"
  },
  {
   "cell_type": "markdown",
   "source": [
    "a and b are called parameters"
   ],
   "metadata": {
    "collapsed": false
   },
   "id": "cfe9af283bcc8453"
  },
  {
   "cell_type": "code",
   "execution_count": null,
   "outputs": [],
   "source": [
    "x = 10\n",
    "y = 11\n",
    "func(x, y)"
   ],
   "metadata": {
    "collapsed": false
   },
   "id": "3e35d245f5b92094"
  },
  {
   "cell_type": "markdown",
   "source": [
    "x and y are called arguments - passed by reference"
   ],
   "metadata": {
    "collapsed": false
   },
   "id": "3d52cae5434a5ddc"
  }
 ],
 "metadata": {
  "kernelspec": {
   "display_name": "Python 3",
   "language": "python",
   "name": "python3"
  },
  "language_info": {
   "codemirror_mode": {
    "name": "ipython",
    "version": 2
   },
   "file_extension": ".py",
   "mimetype": "text/x-python",
   "name": "python",
   "nbconvert_exporter": "python",
   "pygments_lexer": "ipython2",
   "version": "2.7.6"
  }
 },
 "nbformat": 4,
 "nbformat_minor": 5
}
