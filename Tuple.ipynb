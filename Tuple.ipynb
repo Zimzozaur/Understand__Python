{
 "cells": [
  {
   "cell_type": "markdown",
   "source": [
    "You can create tuple by using constructor"
   ],
   "metadata": {
    "collapsed": false
   },
   "id": "e5ea77e7439912d8"
  },
  {
   "cell_type": "code",
   "execution_count": null,
   "outputs": [],
   "source": [
    "type(tuple([10]))"
   ],
   "metadata": {
    "collapsed": false
   },
   "id": "7e5785306b9504f9"
  },
  {
   "cell_type": "markdown",
   "source": [
    "or literal. Most of us think that this is a tuple because it has ()"
   ],
   "metadata": {
    "collapsed": false
   },
   "id": "177d9ea5cdf7a7a3"
  },
  {
   "cell_type": "code",
   "execution_count": null,
   "outputs": [],
   "source": [
    "type((10, 20))"
   ],
   "metadata": {
    "collapsed": false
   },
   "id": "e574445fbb3a0adb"
  },
  {
   "cell_type": "markdown",
   "source": [
    "But do you need to use parentheses \n",
    "What makes tuple a tuple?"
   ],
   "metadata": {
    "collapsed": false
   },
   "id": "9b00d592c8ee699e"
  },
  {
   "cell_type": "markdown",
   "source": [
    "This is not a tuple it is an int"
   ],
   "metadata": {
    "collapsed": false
   },
   "id": "bd3e3b4cf4e60c7d"
  },
  {
   "cell_type": "code",
   "execution_count": null,
   "outputs": [],
   "source": [
    "def my_func():\n",
    "    return (1)\n",
    "\n",
    "print(type(my_func()))"
   ],
   "metadata": {
    "collapsed": false
   },
   "id": "1b420f924d8ef796"
  },
  {
   "cell_type": "markdown",
   "source": [
    "The thing that define tuple is \",\" not a \"()\""
   ],
   "metadata": {
    "collapsed": false
   },
   "id": "79f48363c715adf5"
  },
  {
   "cell_type": "code",
   "execution_count": null,
   "outputs": [],
   "source": [
    "def my_func():\n",
    "    return 1,\n",
    "\n",
    "print(type(my_func()))"
   ],
   "metadata": {
    "collapsed": false
   },
   "id": "initial_id"
  },
  {
   "cell_type": "markdown",
   "source": [
    "We use parentheses to make it more readable"
   ],
   "metadata": {
    "collapsed": false
   },
   "id": "846fde39fa062a20"
  },
  {
   "cell_type": "code",
   "execution_count": null,
   "outputs": [],
   "source": [
    "def my_func():\n",
    "    return (1,)\n",
    "\n",
    "print(type(my_func()))"
   ],
   "metadata": {
    "collapsed": false
   },
   "id": "6825392fc18bda32"
  },
  {
   "cell_type": "markdown",
   "source": [
    "You cannot put literal like this..."
   ],
   "metadata": {
    "collapsed": false
   },
   "id": "e2daef240d8c54d8"
  },
  {
   "cell_type": "code",
   "execution_count": null,
   "outputs": [],
   "source": [
    "type(10,)"
   ],
   "metadata": {
    "collapsed": false
   },
   "id": "adf3e68908eebaa3"
  },
  {
   "cell_type": "markdown",
   "source": [
    "But when you input variable you see that it is a tuple "
   ],
   "metadata": {
    "collapsed": false
   },
   "id": "619f297838a4e52"
  },
  {
   "cell_type": "code",
   "execution_count": null,
   "outputs": [],
   "source": [
    "x = 10,\n",
    "type(x)"
   ],
   "metadata": {
    "collapsed": false
   },
   "id": "5c4cfcbc2d721d30"
  },
  {
   "cell_type": "markdown",
   "source": [
    "If you want to create empty tuple you have to use parentheses"
   ],
   "metadata": {
    "collapsed": false
   },
   "id": "1b3e35de5976ddf3"
  },
  {
   "cell_type": "code",
   "execution_count": null,
   "outputs": [],
   "source": [
    "type(())"
   ],
   "metadata": {
    "collapsed": false
   },
   "id": "36188f34412eee3c"
  },
  {
   "cell_type": "markdown",
   "source": [
    "or tuple constructor"
   ],
   "metadata": {
    "collapsed": false
   },
   "id": "89fbd926da9fb621"
  },
  {
   "cell_type": "code",
   "execution_count": null,
   "outputs": [],
   "source": [
    "type(tuple())"
   ],
   "metadata": {
    "collapsed": false
   },
   "id": "14745fb5c5efa5fa"
  }
 ],
 "metadata": {
  "kernelspec": {
   "display_name": "Python 3",
   "language": "python",
   "name": "python3"
  },
  "language_info": {
   "codemirror_mode": {
    "name": "ipython",
    "version": 2
   },
   "file_extension": ".py",
   "mimetype": "text/x-python",
   "name": "python",
   "nbconvert_exporter": "python",
   "pygments_lexer": "ipython2",
   "version": "2.7.6"
  }
 },
 "nbformat": 4,
 "nbformat_minor": 5
}
