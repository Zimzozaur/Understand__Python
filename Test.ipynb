{
 "cells": [
  {
   "cell_type": "markdown",
   "source": [
    "Variable starts with _ or letter (a - z, A - Z)\n",
    "Followed by any number of underscores, letters or digits\n",
    "var my_var var1 **_var __var Var__1**\n",
    "\n",
    "Cannot be reserved words like None, True, False etc."
   ],
   "metadata": {
    "collapsed": false
   },
   "id": "51298ff8a0263cce"
  },
  {
   "cell_type": "markdown",
   "source": [
    "Naming variables rules:\n",
    "1. _var This is for \"internal\" or \"private*\" object. Objects names this way cannot be imported by e.g. from module import *\n",
    "2. \\_\\_var\\_\\_ Used to \"mangle\" class attributes - useful in inheritance chains\n",
    "3. __var__ Used for system-defined names that have a special meaning to the interpreter. Don't invent them, stick to the ones pre-defined byt Python!\n",
    "\n",
    "\\*Python has no private objects. Not worth at the beginning.\n"
   ],
   "metadata": {
    "collapsed": false
   },
   "id": "595f104badbab9c3"
  },
  {
   "cell_type": "markdown",
   "source": [],
   "metadata": {
    "collapsed": false
   },
   "id": "1d7a3529797f3ad3"
  },
  {
   "cell_type": "code",
   "execution_count": null,
   "outputs": [],
   "source": [],
   "metadata": {
    "collapsed": false
   },
   "id": "44fc3067467e1c50"
  }
 ],
 "metadata": {
  "kernelspec": {
   "display_name": "Python 3",
   "language": "python",
   "name": "python3"
  },
  "language_info": {
   "codemirror_mode": {
    "name": "ipython",
    "version": 2
   },
   "file_extension": ".py",
   "mimetype": "text/x-python",
   "name": "python",
   "nbconvert_exporter": "python",
   "pygments_lexer": "ipython2",
   "version": "2.7.6"
  }
 },
 "nbformat": 4,
 "nbformat_minor": 5
}
